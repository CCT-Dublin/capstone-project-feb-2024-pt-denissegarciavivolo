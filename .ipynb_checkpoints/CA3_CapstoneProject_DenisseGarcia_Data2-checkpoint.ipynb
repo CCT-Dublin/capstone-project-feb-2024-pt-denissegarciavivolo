{
 "cells": [
  {
   "cell_type": "markdown",
   "id": "0905084b-ef43-4a66-9415-c8b04eecff59",
   "metadata": {},
   "source": [
    "# CA3  Capstone Project - Final\n",
    "# Name: Denisse Garcia\n",
    "# Student ID: SBS24050\n",
    "\n",
    "\n",
    "### This is the part 2 of the project - Analisys, evaluation and study of Dataset 2\n",
    "\n",
    "\"www.kaggle.com. (n.d.). eCommerce Customer Service Satisfaction. [online] Available at: https://www.kaggle.com/datasets/ddosad/ecommerce-customer-service-satisfaction.\"\n"
   ]
  },
  {
   "cell_type": "code",
   "execution_count": 1,
   "id": "f05ad81f-a3f2-41ac-9a1b-058d7e484e4e",
   "metadata": {},
   "outputs": [],
   "source": [
    "#!pip install lightgbm"
   ]
  },
  {
   "cell_type": "markdown",
   "id": "b69dd42d-d59c-49d0-a609-859028d2c991",
   "metadata": {},
   "source": [
    "## 1.  **Importing Necessary Modules**"
   ]
  },
  {
   "cell_type": "code",
   "execution_count": 2,
   "id": "bcd0741d",
   "metadata": {
    "id": "bcd0741d"
   },
   "outputs": [],
   "source": [
    "import pandas as pd\n",
    "import numpy as np\n",
    "from sklearn.preprocessing import LabelEncoder\n",
    "from sklearn.model_selection import train_test_split\n",
    "from sklearn.ensemble import RandomForestClassifier\n",
    "from sklearn.tree import DecisionTreeClassifier\n",
    "import lightgbm as lgb\n",
    "from sklearn.metrics import accuracy_score, precision_score, recall_score, f1_score, confusion_matrix, classification_report\n",
    "from imblearn.over_sampling import SMOTE\n",
    "import seaborn as sns\n",
    "import matplotlib.pyplot as plt\n",
    "from math import pi"
   ]
  },
  {
   "cell_type": "code",
   "execution_count": 3,
   "id": "d6d24a0f",
   "metadata": {
    "colab": {
     "base_uri": "https://localhost:8080/",
     "height": 538
    },
    "id": "d6d24a0f",
    "outputId": "84226516-6377-480f-9ed4-c1ec5fa65e19"
   },
   "outputs": [
    {
     "data": {
      "text/html": [
       "<div>\n",
       "<style scoped>\n",
       "    .dataframe tbody tr th:only-of-type {\n",
       "        vertical-align: middle;\n",
       "    }\n",
       "\n",
       "    .dataframe tbody tr th {\n",
       "        vertical-align: top;\n",
       "    }\n",
       "\n",
       "    .dataframe thead th {\n",
       "        text-align: right;\n",
       "    }\n",
       "</style>\n",
       "<table border=\"1\" class=\"dataframe\">\n",
       "  <thead>\n",
       "    <tr style=\"text-align: right;\">\n",
       "      <th></th>\n",
       "      <th>Unique id</th>\n",
       "      <th>channel_name</th>\n",
       "      <th>category</th>\n",
       "      <th>Sub-category</th>\n",
       "      <th>Customer Remarks</th>\n",
       "      <th>Order_id</th>\n",
       "      <th>order_date_time</th>\n",
       "      <th>Issue_reported at</th>\n",
       "      <th>issue_responded</th>\n",
       "      <th>Survey_response_Date</th>\n",
       "      <th>Customer_City</th>\n",
       "      <th>Product_category</th>\n",
       "      <th>Item_price</th>\n",
       "      <th>connected_handling_time</th>\n",
       "      <th>Agent_name</th>\n",
       "      <th>Supervisor</th>\n",
       "      <th>Manager</th>\n",
       "      <th>Tenure Bucket</th>\n",
       "      <th>Agent Shift</th>\n",
       "      <th>CSAT Score</th>\n",
       "    </tr>\n",
       "  </thead>\n",
       "  <tbody>\n",
       "    <tr>\n",
       "      <th>0</th>\n",
       "      <td>7e9ae164-6a8b-4521-a2d4-58f7c9fff13f</td>\n",
       "      <td>Outcall</td>\n",
       "      <td>Product Queries</td>\n",
       "      <td>Life Insurance</td>\n",
       "      <td>NaN</td>\n",
       "      <td>c27c9bb4-fa36-4140-9f1f-21009254ffdb</td>\n",
       "      <td>NaN</td>\n",
       "      <td>01/08/2023 11:13</td>\n",
       "      <td>01/08/2023 11:47</td>\n",
       "      <td>01-Aug-23</td>\n",
       "      <td>NaN</td>\n",
       "      <td>NaN</td>\n",
       "      <td>NaN</td>\n",
       "      <td>NaN</td>\n",
       "      <td>Richard Buchanan</td>\n",
       "      <td>Mason Gupta</td>\n",
       "      <td>Jennifer Nguyen</td>\n",
       "      <td>On Job Training</td>\n",
       "      <td>Morning</td>\n",
       "      <td>5</td>\n",
       "    </tr>\n",
       "    <tr>\n",
       "      <th>1</th>\n",
       "      <td>b07ec1b0-f376-43b6-86df-ec03da3b2e16</td>\n",
       "      <td>Outcall</td>\n",
       "      <td>Product Queries</td>\n",
       "      <td>Product Specific Information</td>\n",
       "      <td>NaN</td>\n",
       "      <td>d406b0c7-ce17-4654-b9de-f08d421254bd</td>\n",
       "      <td>NaN</td>\n",
       "      <td>01/08/2023 12:52</td>\n",
       "      <td>01/08/2023 12:54</td>\n",
       "      <td>01-Aug-23</td>\n",
       "      <td>NaN</td>\n",
       "      <td>NaN</td>\n",
       "      <td>NaN</td>\n",
       "      <td>NaN</td>\n",
       "      <td>Vicki Collins</td>\n",
       "      <td>Dylan Kim</td>\n",
       "      <td>Michael Lee</td>\n",
       "      <td>&gt;90</td>\n",
       "      <td>Morning</td>\n",
       "      <td>5</td>\n",
       "    </tr>\n",
       "    <tr>\n",
       "      <th>2</th>\n",
       "      <td>200814dd-27c7-4149-ba2b-bd3af3092880</td>\n",
       "      <td>Inbound</td>\n",
       "      <td>Order Related</td>\n",
       "      <td>Installation/demo</td>\n",
       "      <td>NaN</td>\n",
       "      <td>c273368d-b961-44cb-beaf-62d6fd6c00d5</td>\n",
       "      <td>NaN</td>\n",
       "      <td>01/08/2023 20:16</td>\n",
       "      <td>01/08/2023 20:38</td>\n",
       "      <td>01-Aug-23</td>\n",
       "      <td>NaN</td>\n",
       "      <td>NaN</td>\n",
       "      <td>NaN</td>\n",
       "      <td>NaN</td>\n",
       "      <td>Duane Norman</td>\n",
       "      <td>Jackson Park</td>\n",
       "      <td>William Kim</td>\n",
       "      <td>On Job Training</td>\n",
       "      <td>Evening</td>\n",
       "      <td>5</td>\n",
       "    </tr>\n",
       "    <tr>\n",
       "      <th>3</th>\n",
       "      <td>eb0d3e53-c1ca-42d3-8486-e42c8d622135</td>\n",
       "      <td>Inbound</td>\n",
       "      <td>Returns</td>\n",
       "      <td>Reverse Pickup Enquiry</td>\n",
       "      <td>NaN</td>\n",
       "      <td>5aed0059-55a4-4ec6-bb54-97942092020a</td>\n",
       "      <td>NaN</td>\n",
       "      <td>01/08/2023 20:56</td>\n",
       "      <td>01/08/2023 21:16</td>\n",
       "      <td>01-Aug-23</td>\n",
       "      <td>NaN</td>\n",
       "      <td>NaN</td>\n",
       "      <td>NaN</td>\n",
       "      <td>NaN</td>\n",
       "      <td>Patrick Flores</td>\n",
       "      <td>Olivia Wang</td>\n",
       "      <td>John Smith</td>\n",
       "      <td>&gt;90</td>\n",
       "      <td>Evening</td>\n",
       "      <td>5</td>\n",
       "    </tr>\n",
       "    <tr>\n",
       "      <th>4</th>\n",
       "      <td>ba903143-1e54-406c-b969-46c52f92e5df</td>\n",
       "      <td>Inbound</td>\n",
       "      <td>Cancellation</td>\n",
       "      <td>Not Needed</td>\n",
       "      <td>NaN</td>\n",
       "      <td>e8bed5a9-6933-4aff-9dc6-ccefd7dcde59</td>\n",
       "      <td>NaN</td>\n",
       "      <td>01/08/2023 10:30</td>\n",
       "      <td>01/08/2023 10:32</td>\n",
       "      <td>01-Aug-23</td>\n",
       "      <td>NaN</td>\n",
       "      <td>NaN</td>\n",
       "      <td>NaN</td>\n",
       "      <td>NaN</td>\n",
       "      <td>Christopher Sanchez</td>\n",
       "      <td>Austin Johnson</td>\n",
       "      <td>Michael Lee</td>\n",
       "      <td>0-30</td>\n",
       "      <td>Morning</td>\n",
       "      <td>5</td>\n",
       "    </tr>\n",
       "  </tbody>\n",
       "</table>\n",
       "</div>"
      ],
      "text/plain": [
       "                              Unique id channel_name         category  \\\n",
       "0  7e9ae164-6a8b-4521-a2d4-58f7c9fff13f      Outcall  Product Queries   \n",
       "1  b07ec1b0-f376-43b6-86df-ec03da3b2e16      Outcall  Product Queries   \n",
       "2  200814dd-27c7-4149-ba2b-bd3af3092880      Inbound    Order Related   \n",
       "3  eb0d3e53-c1ca-42d3-8486-e42c8d622135      Inbound          Returns   \n",
       "4  ba903143-1e54-406c-b969-46c52f92e5df      Inbound     Cancellation   \n",
       "\n",
       "                   Sub-category Customer Remarks  \\\n",
       "0                Life Insurance              NaN   \n",
       "1  Product Specific Information              NaN   \n",
       "2             Installation/demo              NaN   \n",
       "3        Reverse Pickup Enquiry              NaN   \n",
       "4                    Not Needed              NaN   \n",
       "\n",
       "                               Order_id order_date_time Issue_reported at  \\\n",
       "0  c27c9bb4-fa36-4140-9f1f-21009254ffdb             NaN  01/08/2023 11:13   \n",
       "1  d406b0c7-ce17-4654-b9de-f08d421254bd             NaN  01/08/2023 12:52   \n",
       "2  c273368d-b961-44cb-beaf-62d6fd6c00d5             NaN  01/08/2023 20:16   \n",
       "3  5aed0059-55a4-4ec6-bb54-97942092020a             NaN  01/08/2023 20:56   \n",
       "4  e8bed5a9-6933-4aff-9dc6-ccefd7dcde59             NaN  01/08/2023 10:30   \n",
       "\n",
       "    issue_responded Survey_response_Date Customer_City Product_category  \\\n",
       "0  01/08/2023 11:47            01-Aug-23           NaN              NaN   \n",
       "1  01/08/2023 12:54            01-Aug-23           NaN              NaN   \n",
       "2  01/08/2023 20:38            01-Aug-23           NaN              NaN   \n",
       "3  01/08/2023 21:16            01-Aug-23           NaN              NaN   \n",
       "4  01/08/2023 10:32            01-Aug-23           NaN              NaN   \n",
       "\n",
       "   Item_price  connected_handling_time           Agent_name      Supervisor  \\\n",
       "0         NaN                      NaN     Richard Buchanan     Mason Gupta   \n",
       "1         NaN                      NaN        Vicki Collins       Dylan Kim   \n",
       "2         NaN                      NaN         Duane Norman    Jackson Park   \n",
       "3         NaN                      NaN       Patrick Flores     Olivia Wang   \n",
       "4         NaN                      NaN  Christopher Sanchez  Austin Johnson   \n",
       "\n",
       "           Manager    Tenure Bucket Agent Shift  CSAT Score  \n",
       "0  Jennifer Nguyen  On Job Training     Morning           5  \n",
       "1      Michael Lee              >90     Morning           5  \n",
       "2      William Kim  On Job Training     Evening           5  \n",
       "3       John Smith              >90     Evening           5  \n",
       "4      Michael Lee             0-30     Morning           5  "
      ]
     },
     "execution_count": 3,
     "metadata": {},
     "output_type": "execute_result"
    }
   ],
   "source": [
    "data=pd.read_csv('Customer_support_data.csv')\n",
    "data.head()"
   ]
  },
  {
   "cell_type": "markdown",
   "id": "883b33b7-d8f9-4cbd-8bac-b55c1f3692e4",
   "metadata": {},
   "source": [
    "## 2. **Data Understanding** "
   ]
  },
  {
   "cell_type": "code",
   "execution_count": 4,
   "id": "18c5c2de",
   "metadata": {
    "colab": {
     "base_uri": "https://localhost:8080/"
    },
    "id": "18c5c2de",
    "outputId": "b13faa3f-3c77-44ff-c3b5-b9508a1a4d08"
   },
   "outputs": [
    {
     "data": {
      "text/plain": [
       "(85907, 20)"
      ]
     },
     "execution_count": 4,
     "metadata": {},
     "output_type": "execute_result"
    }
   ],
   "source": [
    "data.shape"
   ]
  },
  {
   "cell_type": "code",
   "execution_count": 5,
   "id": "g4hEGHuJHT5J",
   "metadata": {
    "colab": {
     "base_uri": "https://localhost:8080/",
     "height": 143
    },
    "id": "g4hEGHuJHT5J",
    "outputId": "cb75bcd9-5744-409c-eb7f-d5d052a9e04a"
   },
   "outputs": [
    {
     "data": {
      "text/html": [
       "<div>\n",
       "<style scoped>\n",
       "    .dataframe tbody tr th:only-of-type {\n",
       "        vertical-align: middle;\n",
       "    }\n",
       "\n",
       "    .dataframe tbody tr th {\n",
       "        vertical-align: top;\n",
       "    }\n",
       "\n",
       "    .dataframe thead th {\n",
       "        text-align: right;\n",
       "    }\n",
       "</style>\n",
       "<table border=\"1\" class=\"dataframe\">\n",
       "  <thead>\n",
       "    <tr style=\"text-align: right;\">\n",
       "      <th></th>\n",
       "      <th>count</th>\n",
       "      <th>mean</th>\n",
       "      <th>std</th>\n",
       "      <th>min</th>\n",
       "      <th>25%</th>\n",
       "      <th>50%</th>\n",
       "      <th>75%</th>\n",
       "      <th>max</th>\n",
       "    </tr>\n",
       "  </thead>\n",
       "  <tbody>\n",
       "    <tr>\n",
       "      <th>Item_price</th>\n",
       "      <td>17206.0</td>\n",
       "      <td>5660.774846</td>\n",
       "      <td>12825.728411</td>\n",
       "      <td>0.0</td>\n",
       "      <td>392.0</td>\n",
       "      <td>979.0</td>\n",
       "      <td>2699.75</td>\n",
       "      <td>164999.0</td>\n",
       "    </tr>\n",
       "    <tr>\n",
       "      <th>connected_handling_time</th>\n",
       "      <td>242.0</td>\n",
       "      <td>462.400826</td>\n",
       "      <td>246.295037</td>\n",
       "      <td>0.0</td>\n",
       "      <td>293.0</td>\n",
       "      <td>427.0</td>\n",
       "      <td>592.25</td>\n",
       "      <td>1986.0</td>\n",
       "    </tr>\n",
       "    <tr>\n",
       "      <th>CSAT Score</th>\n",
       "      <td>85907.0</td>\n",
       "      <td>4.242157</td>\n",
       "      <td>1.378903</td>\n",
       "      <td>1.0</td>\n",
       "      <td>4.0</td>\n",
       "      <td>5.0</td>\n",
       "      <td>5.00</td>\n",
       "      <td>5.0</td>\n",
       "    </tr>\n",
       "  </tbody>\n",
       "</table>\n",
       "</div>"
      ],
      "text/plain": [
       "                           count         mean           std  min    25%  \\\n",
       "Item_price               17206.0  5660.774846  12825.728411  0.0  392.0   \n",
       "connected_handling_time    242.0   462.400826    246.295037  0.0  293.0   \n",
       "CSAT Score               85907.0     4.242157      1.378903  1.0    4.0   \n",
       "\n",
       "                           50%      75%       max  \n",
       "Item_price               979.0  2699.75  164999.0  \n",
       "connected_handling_time  427.0   592.25    1986.0  \n",
       "CSAT Score                 5.0     5.00       5.0  "
      ]
     },
     "execution_count": 5,
     "metadata": {},
     "output_type": "execute_result"
    }
   ],
   "source": [
    "data.describe().T"
   ]
  },
  {
   "cell_type": "code",
   "execution_count": 6,
   "id": "e00d1f75",
   "metadata": {
    "colab": {
     "base_uri": "https://localhost:8080/"
    },
    "id": "e00d1f75",
    "outputId": "40865c22-ba55-4e9d-b25c-c749582a8631"
   },
   "outputs": [
    {
     "data": {
      "text/plain": [
       "Index(['Unique id', 'channel_name', 'category', 'Sub-category',\n",
       "       'Customer Remarks', 'Order_id', 'order_date_time', 'Issue_reported at',\n",
       "       'issue_responded', 'Survey_response_Date', 'Customer_City',\n",
       "       'Product_category', 'Item_price', 'connected_handling_time',\n",
       "       'Agent_name', 'Supervisor', 'Manager', 'Tenure Bucket', 'Agent Shift',\n",
       "       'CSAT Score'],\n",
       "      dtype='object')"
      ]
     },
     "execution_count": 6,
     "metadata": {},
     "output_type": "execute_result"
    }
   ],
   "source": [
    "data.columns"
   ]
  },
  {
   "cell_type": "code",
   "execution_count": 7,
   "id": "3c42b9dd",
   "metadata": {
    "colab": {
     "base_uri": "https://localhost:8080/",
     "height": 272
    },
    "id": "3c42b9dd",
    "outputId": "eb81b7a9-50b0-4a6a-e29f-acb9b2226ef6"
   },
   "outputs": [
    {
     "data": {
      "text/plain": [
       "CSAT Score\n",
       "5    59617\n",
       "1    11230\n",
       "4    11219\n",
       "3     2558\n",
       "2     1283\n",
       "Name: count, dtype: int64"
      ]
     },
     "execution_count": 7,
     "metadata": {},
     "output_type": "execute_result"
    }
   ],
   "source": [
    "data['CSAT Score'].value_counts()"
   ]
  },
  {
   "cell_type": "code",
   "execution_count": 8,
   "id": "5a8e1ed7",
   "metadata": {
    "colab": {
     "base_uri": "https://localhost:8080/",
     "height": 711
    },
    "id": "5a8e1ed7",
    "outputId": "ef1adff7-3f07-43b9-f0f9-d663f4058104",
    "scrolled": true
   },
   "outputs": [
    {
     "data": {
      "text/plain": [
       "Unique id                      0\n",
       "channel_name                   0\n",
       "category                       0\n",
       "Sub-category                   0\n",
       "Customer Remarks           57165\n",
       "Order_id                   18232\n",
       "order_date_time            68693\n",
       "Issue_reported at              0\n",
       "issue_responded                0\n",
       "Survey_response_Date           0\n",
       "Customer_City              68828\n",
       "Product_category           68711\n",
       "Item_price                 68701\n",
       "connected_handling_time    85665\n",
       "Agent_name                     0\n",
       "Supervisor                     0\n",
       "Manager                        0\n",
       "Tenure Bucket                  0\n",
       "Agent Shift                    0\n",
       "CSAT Score                     0\n",
       "dtype: int64"
      ]
     },
     "execution_count": 8,
     "metadata": {},
     "output_type": "execute_result"
    }
   ],
   "source": [
    "data.isnull().sum()"
   ]
  },
  {
   "cell_type": "code",
   "execution_count": 9,
   "id": "fd15e933-1717-4dbd-9c6e-0e4bfd7aa945",
   "metadata": {},
   "outputs": [
    {
     "name": "stdout",
     "output_type": "stream",
     "text": [
      "Datatype in Each Column\n",
      "\n"
     ]
    },
    {
     "data": {
      "text/html": [
       "<div>\n",
       "<style scoped>\n",
       "    .dataframe tbody tr th:only-of-type {\n",
       "        vertical-align: middle;\n",
       "    }\n",
       "\n",
       "    .dataframe tbody tr th {\n",
       "        vertical-align: top;\n",
       "    }\n",
       "\n",
       "    .dataframe thead th {\n",
       "        text-align: right;\n",
       "    }\n",
       "</style>\n",
       "<table border=\"1\" class=\"dataframe\">\n",
       "  <thead>\n",
       "    <tr style=\"text-align: right;\">\n",
       "      <th></th>\n",
       "      <th>Datatype</th>\n",
       "      <th>Unique Values</th>\n",
       "      <th>Total Values</th>\n",
       "    </tr>\n",
       "    <tr>\n",
       "      <th>Column Name</th>\n",
       "      <th></th>\n",
       "      <th></th>\n",
       "      <th></th>\n",
       "    </tr>\n",
       "  </thead>\n",
       "  <tbody>\n",
       "    <tr>\n",
       "      <th>Unique id</th>\n",
       "      <td>object</td>\n",
       "      <td>85907</td>\n",
       "      <td>85907</td>\n",
       "    </tr>\n",
       "    <tr>\n",
       "      <th>channel_name</th>\n",
       "      <td>object</td>\n",
       "      <td>3</td>\n",
       "      <td>85907</td>\n",
       "    </tr>\n",
       "    <tr>\n",
       "      <th>category</th>\n",
       "      <td>object</td>\n",
       "      <td>12</td>\n",
       "      <td>85907</td>\n",
       "    </tr>\n",
       "    <tr>\n",
       "      <th>Sub-category</th>\n",
       "      <td>object</td>\n",
       "      <td>57</td>\n",
       "      <td>85907</td>\n",
       "    </tr>\n",
       "    <tr>\n",
       "      <th>Customer Remarks</th>\n",
       "      <td>object</td>\n",
       "      <td>18231</td>\n",
       "      <td>85907</td>\n",
       "    </tr>\n",
       "    <tr>\n",
       "      <th>Order_id</th>\n",
       "      <td>object</td>\n",
       "      <td>67675</td>\n",
       "      <td>85907</td>\n",
       "    </tr>\n",
       "    <tr>\n",
       "      <th>order_date_time</th>\n",
       "      <td>object</td>\n",
       "      <td>13766</td>\n",
       "      <td>85907</td>\n",
       "    </tr>\n",
       "    <tr>\n",
       "      <th>Issue_reported at</th>\n",
       "      <td>object</td>\n",
       "      <td>30923</td>\n",
       "      <td>85907</td>\n",
       "    </tr>\n",
       "    <tr>\n",
       "      <th>issue_responded</th>\n",
       "      <td>object</td>\n",
       "      <td>30262</td>\n",
       "      <td>85907</td>\n",
       "    </tr>\n",
       "    <tr>\n",
       "      <th>Survey_response_Date</th>\n",
       "      <td>object</td>\n",
       "      <td>31</td>\n",
       "      <td>85907</td>\n",
       "    </tr>\n",
       "    <tr>\n",
       "      <th>Customer_City</th>\n",
       "      <td>object</td>\n",
       "      <td>1782</td>\n",
       "      <td>85907</td>\n",
       "    </tr>\n",
       "    <tr>\n",
       "      <th>Product_category</th>\n",
       "      <td>object</td>\n",
       "      <td>9</td>\n",
       "      <td>85907</td>\n",
       "    </tr>\n",
       "    <tr>\n",
       "      <th>Item_price</th>\n",
       "      <td>float64</td>\n",
       "      <td>2789</td>\n",
       "      <td>85907</td>\n",
       "    </tr>\n",
       "    <tr>\n",
       "      <th>connected_handling_time</th>\n",
       "      <td>float64</td>\n",
       "      <td>211</td>\n",
       "      <td>85907</td>\n",
       "    </tr>\n",
       "    <tr>\n",
       "      <th>Agent_name</th>\n",
       "      <td>object</td>\n",
       "      <td>1371</td>\n",
       "      <td>85907</td>\n",
       "    </tr>\n",
       "    <tr>\n",
       "      <th>Supervisor</th>\n",
       "      <td>object</td>\n",
       "      <td>40</td>\n",
       "      <td>85907</td>\n",
       "    </tr>\n",
       "    <tr>\n",
       "      <th>Manager</th>\n",
       "      <td>object</td>\n",
       "      <td>6</td>\n",
       "      <td>85907</td>\n",
       "    </tr>\n",
       "    <tr>\n",
       "      <th>Tenure Bucket</th>\n",
       "      <td>object</td>\n",
       "      <td>5</td>\n",
       "      <td>85907</td>\n",
       "    </tr>\n",
       "    <tr>\n",
       "      <th>Agent Shift</th>\n",
       "      <td>object</td>\n",
       "      <td>5</td>\n",
       "      <td>85907</td>\n",
       "    </tr>\n",
       "    <tr>\n",
       "      <th>CSAT Score</th>\n",
       "      <td>int64</td>\n",
       "      <td>5</td>\n",
       "      <td>85907</td>\n",
       "    </tr>\n",
       "  </tbody>\n",
       "</table>\n",
       "</div>"
      ],
      "text/plain": [
       "                        Datatype  Unique Values  Total Values\n",
       "Column Name                                                  \n",
       "Unique id                 object          85907         85907\n",
       "channel_name              object              3         85907\n",
       "category                  object             12         85907\n",
       "Sub-category              object             57         85907\n",
       "Customer Remarks          object          18231         85907\n",
       "Order_id                  object          67675         85907\n",
       "order_date_time           object          13766         85907\n",
       "Issue_reported at         object          30923         85907\n",
       "issue_responded           object          30262         85907\n",
       "Survey_response_Date      object             31         85907\n",
       "Customer_City             object           1782         85907\n",
       "Product_category          object              9         85907\n",
       "Item_price               float64           2789         85907\n",
       "connected_handling_time  float64            211         85907\n",
       "Agent_name                object           1371         85907\n",
       "Supervisor                object             40         85907\n",
       "Manager                   object              6         85907\n",
       "Tenure Bucket             object              5         85907\n",
       "Agent Shift               object              5         85907\n",
       "CSAT Score                 int64              5         85907"
      ]
     },
     "execution_count": 9,
     "metadata": {},
     "output_type": "execute_result"
    }
   ],
   "source": [
    "# Printing the data structure\n",
    "print('Datatype in Each Column\\n')\n",
    "pd.DataFrame({\n",
    "    'Datatype': data.dtypes, \n",
    "    'Unique Values': data.nunique(), \n",
    "    'Total Values': len(data)\n",
    "}).rename_axis(\"Column Name\")"
   ]
  },
  {
   "cell_type": "code",
   "execution_count": 10,
   "id": "9a0b87be-dad7-4faa-8019-c1af0d76f32d",
   "metadata": {},
   "outputs": [
    {
     "data": {
      "image/png": "[encoded data removed]",
      "text/plain": [
       "<Figure size 1000x600 with 2 Axes>"
      ]
     },
     "metadata": {},
     "output_type": "display_data"
    },
    {
     "name": "stdout",
     "output_type": "stream",
     "text": [
      "Number of missing values per column:\n",
      "Unique id                      0\n",
      "channel_name                   0\n",
      "category                       0\n",
      "Sub-category                   0\n",
      "Customer Remarks           57165\n",
      "Order_id                   18232\n",
      "order_date_time            68693\n",
      "Issue_reported at              0\n",
      "issue_responded                0\n",
      "Survey_response_Date           0\n",
      "Customer_City              68828\n",
      "Product_category           68711\n",
      "Item_price                 68701\n",
      "connected_handling_time    85665\n",
      "Agent_name                     0\n",
      "Supervisor                     0\n",
      "Manager                        0\n",
      "Tenure Bucket                  0\n",
      "Agent Shift                    0\n",
      "CSAT Score                     0\n",
      "dtype: int64\n"
     ]
    }
   ],
   "source": [
    "missing_values = data.isnull()\n",
    "\n",
    "# Plotting missing values heatmap\n",
    "plt.figure(figsize=(10, 6))\n",
    "sns.heatmap(missing_values, cmap='viridis', cbar=True)\n",
    "plt.title('Missing Values Heatmap')\n",
    "plt.xlabel('Features')\n",
    "plt.ylabel('Data Points')\n",
    "plt.show()\n",
    "\n",
    "# Print the number of missing values for each column\n",
    "missing_count = data.isnull().sum()\n",
    "print(\"Number of missing values per column:\")\n",
    "print(missing_count)"
   ]
  },
  {
   "cell_type": "code",
   "execution_count": 11,
   "id": "d8739540-55b4-4117-a86b-4d459d4b4169",
   "metadata": {
    "scrolled": true
   },
   "outputs": [
    {
     "data": {
      "text/html": [
       "<style type=\"text/css\">\n",
       "#T_20e0d_row0_col1 {\n",
       "  background-color: #fde725;\n",
       "  color: #000000;\n",
       "}\n",
       "#T_20e0d_row1_col1, #T_20e0d_row2_col1, #T_20e0d_row3_col1, #T_20e0d_row4_col1 {\n",
       "  background-color: #7cd250;\n",
       "  color: #000000;\n",
       "}\n",
       "#T_20e0d_row5_col1 {\n",
       "  background-color: #35b779;\n",
       "  color: #f1f1f1;\n",
       "}\n",
       "#T_20e0d_row6_col1 {\n",
       "  background-color: #3f4788;\n",
       "  color: #f1f1f1;\n",
       "}\n",
       "#T_20e0d_row7_col1, #T_20e0d_row8_col1, #T_20e0d_row9_col1, #T_20e0d_row10_col1, #T_20e0d_row11_col1, #T_20e0d_row12_col1, #T_20e0d_row13_col1, #T_20e0d_row14_col1, #T_20e0d_row15_col1, #T_20e0d_row16_col1, #T_20e0d_row17_col1, #T_20e0d_row18_col1, #T_20e0d_row19_col1 {\n",
       "  background-color: #440154;\n",
       "  color: #f1f1f1;\n",
       "}\n",
       "</style>\n",
       "<table id=\"T_20e0d\">\n",
       "  <thead>\n",
       "    <tr>\n",
       "      <th class=\"blank level0\" >&nbsp;</th>\n",
       "      <th id=\"T_20e0d_level0_col0\" class=\"col_heading level0 col0\" >Column</th>\n",
       "      <th id=\"T_20e0d_level0_col1\" class=\"col_heading level0 col1\" >Missing Values</th>\n",
       "    </tr>\n",
       "  </thead>\n",
       "  <tbody>\n",
       "    <tr>\n",
       "      <th id=\"T_20e0d_level0_row0\" class=\"row_heading level0 row0\" >0</th>\n",
       "      <td id=\"T_20e0d_row0_col0\" class=\"data row0 col0\" >connected_handling_time</td>\n",
       "      <td id=\"T_20e0d_row0_col1\" class=\"data row0 col1\" >85665</td>\n",
       "    </tr>\n",
       "    <tr>\n",
       "      <th id=\"T_20e0d_level0_row1\" class=\"row_heading level0 row1\" >1</th>\n",
       "      <td id=\"T_20e0d_row1_col0\" class=\"data row1 col0\" >Customer_City</td>\n",
       "      <td id=\"T_20e0d_row1_col1\" class=\"data row1 col1\" >68828</td>\n",
       "    </tr>\n",
       "    <tr>\n",
       "      <th id=\"T_20e0d_level0_row2\" class=\"row_heading level0 row2\" >2</th>\n",
       "      <td id=\"T_20e0d_row2_col0\" class=\"data row2 col0\" >Product_category</td>\n",
       "      <td id=\"T_20e0d_row2_col1\" class=\"data row2 col1\" >68711</td>\n",
       "    </tr>\n",
       "    <tr>\n",
       "      <th id=\"T_20e0d_level0_row3\" class=\"row_heading level0 row3\" >3</th>\n",
       "      <td id=\"T_20e0d_row3_col0\" class=\"data row3 col0\" >Item_price</td>\n",
       "      <td id=\"T_20e0d_row3_col1\" class=\"data row3 col1\" >68701</td>\n",
       "    </tr>\n",
       "    <tr>\n",
       "      <th id=\"T_20e0d_level0_row4\" class=\"row_heading level0 row4\" >4</th>\n",
       "      <td id=\"T_20e0d_row4_col0\" class=\"data row4 col0\" >order_date_time</td>\n",
       "      <td id=\"T_20e0d_row4_col1\" class=\"data row4 col1\" >68693</td>\n",
       "    </tr>\n",
       "    <tr>\n",
       "      <th id=\"T_20e0d_level0_row5\" class=\"row_heading level0 row5\" >5</th>\n",
       "      <td id=\"T_20e0d_row5_col0\" class=\"data row5 col0\" >Customer Remarks</td>\n",
       "      <td id=\"T_20e0d_row5_col1\" class=\"data row5 col1\" >57165</td>\n",
       "    </tr>\n",
       "    <tr>\n",
       "      <th id=\"T_20e0d_level0_row6\" class=\"row_heading level0 row6\" >6</th>\n",
       "      <td id=\"T_20e0d_row6_col0\" class=\"data row6 col0\" >Order_id</td>\n",
       "      <td id=\"T_20e0d_row6_col1\" class=\"data row6 col1\" >18232</td>\n",
       "    </tr>\n",
       "    <tr>\n",
       "      <th id=\"T_20e0d_level0_row7\" class=\"row_heading level0 row7\" >7</th>\n",
       "      <td id=\"T_20e0d_row7_col0\" class=\"data row7 col0\" >Agent Shift</td>\n",
       "      <td id=\"T_20e0d_row7_col1\" class=\"data row7 col1\" >0</td>\n",
       "    </tr>\n",
       "    <tr>\n",
       "      <th id=\"T_20e0d_level0_row8\" class=\"row_heading level0 row8\" >8</th>\n",
       "      <td id=\"T_20e0d_row8_col0\" class=\"data row8 col0\" >Tenure Bucket</td>\n",
       "      <td id=\"T_20e0d_row8_col1\" class=\"data row8 col1\" >0</td>\n",
       "    </tr>\n",
       "    <tr>\n",
       "      <th id=\"T_20e0d_level0_row9\" class=\"row_heading level0 row9\" >9</th>\n",
       "      <td id=\"T_20e0d_row9_col0\" class=\"data row9 col0\" >Manager</td>\n",
       "      <td id=\"T_20e0d_row9_col1\" class=\"data row9 col1\" >0</td>\n",
       "    </tr>\n",
       "    <tr>\n",
       "      <th id=\"T_20e0d_level0_row10\" class=\"row_heading level0 row10\" >10</th>\n",
       "      <td id=\"T_20e0d_row10_col0\" class=\"data row10 col0\" >Supervisor</td>\n",
       "      <td id=\"T_20e0d_row10_col1\" class=\"data row10 col1\" >0</td>\n",
       "    </tr>\n",
       "    <tr>\n",
       "      <th id=\"T_20e0d_level0_row11\" class=\"row_heading level0 row11\" >11</th>\n",
       "      <td id=\"T_20e0d_row11_col0\" class=\"data row11 col0\" >Agent_name</td>\n",
       "      <td id=\"T_20e0d_row11_col1\" class=\"data row11 col1\" >0</td>\n",
       "    </tr>\n",
       "    <tr>\n",
       "      <th id=\"T_20e0d_level0_row12\" class=\"row_heading level0 row12\" >12</th>\n",
       "      <td id=\"T_20e0d_row12_col0\" class=\"data row12 col0\" >Unique id</td>\n",
       "      <td id=\"T_20e0d_row12_col1\" class=\"data row12 col1\" >0</td>\n",
       "    </tr>\n",
       "    <tr>\n",
       "      <th id=\"T_20e0d_level0_row13\" class=\"row_heading level0 row13\" >13</th>\n",
       "      <td id=\"T_20e0d_row13_col0\" class=\"data row13 col0\" >channel_name</td>\n",
       "      <td id=\"T_20e0d_row13_col1\" class=\"data row13 col1\" >0</td>\n",
       "    </tr>\n",
       "    <tr>\n",
       "      <th id=\"T_20e0d_level0_row14\" class=\"row_heading level0 row14\" >14</th>\n",
       "      <td id=\"T_20e0d_row14_col0\" class=\"data row14 col0\" >Survey_response_Date</td>\n",
       "      <td id=\"T_20e0d_row14_col1\" class=\"data row14 col1\" >0</td>\n",
       "    </tr>\n",
       "    <tr>\n",
       "      <th id=\"T_20e0d_level0_row15\" class=\"row_heading level0 row15\" >15</th>\n",
       "      <td id=\"T_20e0d_row15_col0\" class=\"data row15 col0\" >issue_responded</td>\n",
       "      <td id=\"T_20e0d_row15_col1\" class=\"data row15 col1\" >0</td>\n",
       "    </tr>\n",
       "    <tr>\n",
       "      <th id=\"T_20e0d_level0_row16\" class=\"row_heading level0 row16\" >16</th>\n",
       "      <td id=\"T_20e0d_row16_col0\" class=\"data row16 col0\" >Issue_reported at</td>\n",
       "      <td id=\"T_20e0d_row16_col1\" class=\"data row16 col1\" >0</td>\n",
       "    </tr>\n",
       "    <tr>\n",
       "      <th id=\"T_20e0d_level0_row17\" class=\"row_heading level0 row17\" >17</th>\n",
       "      <td id=\"T_20e0d_row17_col0\" class=\"data row17 col0\" >Sub-category</td>\n",
       "      <td id=\"T_20e0d_row17_col1\" class=\"data row17 col1\" >0</td>\n",
       "    </tr>\n",
       "    <tr>\n",
       "      <th id=\"T_20e0d_level0_row18\" class=\"row_heading level0 row18\" >18</th>\n",
       "      <td id=\"T_20e0d_row18_col0\" class=\"data row18 col0\" >category</td>\n",
       "      <td id=\"T_20e0d_row18_col1\" class=\"data row18 col1\" >0</td>\n",
       "    </tr>\n",
       "    <tr>\n",
       "      <th id=\"T_20e0d_level0_row19\" class=\"row_heading level0 row19\" >19</th>\n",
       "      <td id=\"T_20e0d_row19_col0\" class=\"data row19 col0\" >CSAT Score</td>\n",
       "      <td id=\"T_20e0d_row19_col1\" class=\"data row19 col1\" >0</td>\n",
       "    </tr>\n",
       "  </tbody>\n",
       "</table>\n"
      ],
      "text/plain": [
       "<pandas.io.formats.style.Styler at 0x2b9930c87d0>"
      ]
     },
     "execution_count": 11,
     "metadata": {},
     "output_type": "execute_result"
    }
   ],
   "source": [
    "# Create a DataFrame from the missing value counts\n",
    "missing_table = data.isnull().sum().sort_values(ascending=False).reset_index()\n",
    "missing_table.columns = ['Column', 'Missing Values']\n",
    "\n",
    "# Show the table\n",
    "missing_table.style.background_gradient(cmap='viridis')"
   ]
  },
  {
   "cell_type": "code",
   "execution_count": 14,
   "id": "f7e7c949-4323-4d34-8906-2e6f3b0cebba",
   "metadata": {},
   "outputs": [
    {
     "data": {
      "image/png": "[encoded data removed]",
      "text/plain": [
       "<Figure size 640x480 with 1 Axes>"
      ]
     },
     "metadata": {},
     "output_type": "display_data"
    }
   ],
   "source": [
    "# Count available and missing CSAT entries\n",
    "csat_total = len(data)\n",
    "csat_available = data['CSAT Score'].notna().sum()\n",
    "csat_missing = csat_total - csat_available\n",
    "\n",
    "# Plot\n",
    "labels = ['Available', 'Missing']\n",
    "counts = [csat_available, csat_missing]\n",
    "\n",
    "plt.bar(labels, counts, color=['green', 'red'])\n",
    "plt.title('Dataset 2: Customer Satisfaction Rating: Available vs. Missing')\n",
    "plt.ylabel('Record Count')\n",
    "plt.show()"
   ]
  },
  {
   "cell_type": "code",
   "execution_count": null,
   "id": "a3f3d3c8-e86a-403d-bb07-2ebfca55d3dc",
   "metadata": {},
   "outputs": [],
   "source": [
    "import matplotlib.pyplot as plt\n",
    "import seaborn as sns\n",
    "\n",
    "# Filter columns with at least 1 missing value\n",
    "missing_count = data.isnull().sum()\n",
    "missing_cols = missing_count[missing_count > 0]\n",
    "\n",
    "# Optional: print missing summary\n",
    "print(\"🔍 Number of missing values per column:\\n\")\n",
    "print(missing_cols.sort_values(ascending=False))\n",
    "\n",
    "# 1. Heatmap of missing values (only relevant columns)\n",
    "plt.figure(figsize=(12, 6))\n",
    "sns.heatmap(\n",
    "    data[missing_cols.index].isnull(),\n",
    "    cmap='viridis',\n",
    "    cbar=True,\n",
    "    yticklabels=False\n",
    ")\n",
    "\n",
    "plt.title('Missing Values Heatmap', fontsize=14, weight='bold')\n",
    "plt.xlabel('Features with Missing Data')\n",
    "plt.ylabel('Data Points')\n",
    "plt.tight_layout()\n",
    "plt.show()\n",
    "\n",
    "# 2. Bar plot of missing value count per column (corrected for Seaborn v0.14+)\n",
    "plt.figure(figsize=(10, 5))\n",
    "sns.barplot(\n",
    "    x=missing_cols.index,\n",
    "    y=missing_cols.values,\n",
    "    hue=missing_cols.index,\n",
    "    palette='viridis',\n",
    "    legend=False\n",
    ")\n",
    "plt.title('Missing Values Per Column', fontsize=14, weight='bold')\n",
    "plt.ylabel('Number of Missing Values')\n",
    "plt.xlabel('Column')\n",
    "plt.xticks(rotation=45)\n",
    "plt.tight_layout()\n",
    "plt.show()\n"
   ]
  },
  {
   "cell_type": "code",
   "execution_count": null,
   "id": "b9ab7e02",
   "metadata": {},
   "outputs": [],
   "source": [
    "data.duplicated().sum()"
   ]
  },
  {
   "cell_type": "code",
   "execution_count": null,
   "id": "fd54922c",
   "metadata": {
    "colab": {
     "base_uri": "https://localhost:8080/",
     "height": 608
    },
    "id": "fd54922c",
    "outputId": "84943ec9-8345-4175-e9c1-10d269d89121",
    "scrolled": true
   },
   "outputs": [],
   "source": [
    "# Drop columns with >75% missing values\n",
    "df_clean=data.copy()\n",
    "missing_threshold = 0.75\n",
    "df_clean = df_clean.dropna(axis=1, thresh=int((1 - missing_threshold) * len(df_clean)))\n",
    "\n",
    "# Fill missing categorical data with \"Unknown\"\n",
    "for col in df_clean.select_dtypes(include='object').columns:\n",
    "    df_clean[col] = df_clean[col].fillna('Unknown')\n",
    "\n",
    "# Fill missing numerical values with median\n",
    "for col in df_clean.select_dtypes(include=np.number).columns:\n",
    "    df_clean[col] = df_clean[col].fillna(df_clean[col].median())\n",
    "\n",
    "# Preview cleaned dataset\n",
    "df_clean.head()\n"
   ]
  },
  {
   "cell_type": "code",
   "execution_count": null,
   "id": "137ae072-ee37-4b8d-b627-d63a106b63dd",
   "metadata": {},
   "outputs": [],
   "source": [
    "# Original dataset stats\n",
    "total_cols = data.shape[1]\n",
    "dropped_cols = total_cols - df_clean.shape[1]\n",
    "\n",
    "# Count of filled values\n",
    "cat_cols = df_clean.select_dtypes(include='object').columns\n",
    "num_cols = df_clean.select_dtypes(include=np.number).columns\n",
    "\n",
    "filled_categorical = data[cat_cols].isnull().sum().sum()\n",
    "filled_numerical = data[num_cols].isnull().sum().sum()\n",
    "\n",
    "\n",
    "# Pie chart: Type of missing values filled\n",
    "plt.figure(figsize=(6, 6))\n",
    "plt.pie(\n",
    "    [filled_categorical, filled_numerical],\n",
    "    labels=[\"Categorical (filled with 'Unknown')\", \"Numerical (filled with Median)\"],\n",
    "    autopct='%1.1f%%',\n",
    "    startangle=140,\n",
    "    colors=sns.color_palette(\"viridis\", 2)\n",
    ")\n",
    "plt.title(\"Breakdown of Filled Missing Values\", fontsize=13, weight='bold')\n",
    "plt.tight_layout()\n",
    "plt.show()"
   ]
  },
  {
   "cell_type": "code",
   "execution_count": null,
   "id": "f4f6f9e3-df92-4ddb-9287-c6b61f3a66d6",
   "metadata": {},
   "outputs": [],
   "source": [
    "# Create DataFrame for barplot\n",
    "bar_df = pd.DataFrame({\n",
    "    \"Status\": [\"Kept\", \"Dropped\"],\n",
    "    \"Columns\": [df_clean.shape[1], dropped_cols]\n",
    "})\n",
    "\n",
    "# Plot with hue to satisfy Seaborn's new requirement\n",
    "plt.figure(figsize=(7, 5))\n",
    "sns.barplot(data=bar_df, x=\"Status\", y=\"Columns\", hue=\"Status\", palette=\"viridis\", legend=False)\n",
    "plt.title(\"Column Retention After Missing Value Threshold\", fontsize=13, weight='bold')\n",
    "plt.ylabel(\"Number of Columns\")\n",
    "plt.tight_layout()\n",
    "plt.show()"
   ]
  },
  {
   "cell_type": "code",
   "execution_count": null,
   "id": "14f2b75f",
   "metadata": {
    "colab": {
     "base_uri": "https://localhost:8080/"
    },
    "id": "14f2b75f",
    "outputId": "f19ea044-0d75-4919-c72d-7810972507e0"
   },
   "outputs": [],
   "source": [
    "# Recalculate available columns to drop (check existence before dropping)\n",
    "columns_to_drop = [\n",
    "    'Unique id', 'Order_id', 'order_date_time',\n",
    "    'Issue_reported at', 'issue_responded', 'Survey_response_Date'\n",
    "]\n",
    "\n",
    "# Drop only columns that exist\n",
    "existing_columns_to_drop = [col for col in columns_to_drop if col in df_clean.columns]\n",
    "df_clean.drop(columns=existing_columns_to_drop, inplace=True)\n",
    "\n",
    "# Show the final cleaned column list\n",
    "df_clean.columns.tolist()\n"
   ]
  },
  {
   "cell_type": "code",
   "execution_count": null,
   "id": "a466ab07",
   "metadata": {
    "colab": {
     "base_uri": "https://localhost:8080/",
     "height": 206
    },
    "id": "a466ab07",
    "outputId": "4a2dbef8-8f91-42bc-f87d-d57dc744e69f"
   },
   "outputs": [],
   "source": [
    "df_clean.head()"
   ]
  },
  {
   "cell_type": "code",
   "execution_count": null,
   "id": "08838631-251c-4559-b2a2-0ffe94821bb5",
   "metadata": {},
   "outputs": [],
   "source": [
    "# Select only numerical features for correlation\n",
    "numerical_data = data.select_dtypes(include=np.number)\n",
    "\n",
    "# Plot: Distribution of CSAT Score\n",
    "plt.figure(figsize=(8, 5))\n",
    "sns.countplot(\n",
    "    data=data,\n",
    "    x='CSAT Score',\n",
    "    hue='CSAT Score',\n",
    "    palette=sns.color_palette(\"viridis\", data['CSAT Score'].nunique()),\n",
    "    edgecolor='black',\n",
    "    legend=False\n",
    ")\n",
    "\n",
    "\n",
    "# Enhancements for styling\n",
    "plt.title('Distribution of Customer Satisfaction Scores', fontsize=14, weight='bold')\n",
    "plt.xlabel('CSAT Score (1 = Very Dissatisfied, 5 = Very Satisfied)', fontsize=12)\n",
    "plt.ylabel('Number of Tickets', fontsize=12)\n",
    "plt.xticks(fontsize=10)\n",
    "plt.yticks(fontsize=10)\n",
    "plt.grid(axis='y', linestyle='--', alpha=0.6)\n",
    "plt.tight_layout()\n",
    "plt.show()\n"
   ]
  },
  {
   "cell_type": "code",
   "execution_count": null,
   "id": "6abfb1af-2c8a-4f95-a64f-0c4c6c7c9912",
   "metadata": {},
   "outputs": [],
   "source": [
    "# Correlation heatmap for numerical features\n",
    "\n",
    "# Heatmap using Viridis palette\n",
    "plt.figure(figsize=(10, 8))\n",
    "sns.heatmap(\n",
    "    numerical_data.corr(),\n",
    "    annot=True,\n",
    "    fmt='.2f',\n",
    "    cmap='viridis',\n",
    "    cbar=True\n",
    ")\n",
    "plt.title('Correlation Heatmap', fontsize=14, weight='bold')\n",
    "plt.tight_layout()\n",
    "plt.show()\n",
    "\n",
    "# Boxplot: Response time vs CSAT Score with Viridis palette\n",
    "if 'response_time_hrs' in data.columns:\n",
    "    plt.figure(figsize=(8, 5))\n",
    "    sns.boxplot(\n",
    "        data=data,\n",
    "        x='CSAT Score',\n",
    "        y='response_time_hrs',\n",
    "        palette=sns.color_palette(\"viridis\", data['CSAT Score'].nunique())\n",
    "    )\n",
    "    plt.title('Response Time vs CSAT Score', fontsize=14, weight='bold')\n",
    "    plt.xlabel('CSAT Score', fontsize=12)\n",
    "    plt.ylabel('Response Time (hrs)', fontsize=12)\n",
    "    plt.tight_layout()\n",
    "    plt.show()"
   ]
  },
  {
   "cell_type": "code",
   "execution_count": null,
   "id": "35bb5a5a",
   "metadata": {
    "id": "35bb5a5a"
   },
   "outputs": [],
   "source": [
    "from sklearn.preprocessing import LabelEncoder\n",
    "\n",
    "# Copy the cleaned data\n",
    "df_encoded = df_clean.copy()\n",
    "\n",
    "# Encode all categorical features\n",
    "label_encoders_all = {}\n",
    "for col in df_encoded.select_dtypes(include='object').columns:\n",
    "    le = LabelEncoder()\n",
    "    df_encoded[col] = le.fit_transform(df_encoded[col])\n",
    "    label_encoders_all[col] = le"
   ]
  },
  {
   "cell_type": "code",
   "execution_count": null,
   "id": "d596f98e",
   "metadata": {
    "id": "d596f98e"
   },
   "outputs": [],
   "source": [
    "# Define Features and Target\n",
    "X = df_encoded.drop(columns=['CSAT Score'])\n",
    "y = df_encoded['CSAT Score']"
   ]
  },
  {
   "cell_type": "code",
   "execution_count": null,
   "id": "d29b505c",
   "metadata": {
    "id": "d29b505c"
   },
   "outputs": [],
   "source": [
    "# Train-Test Split\n",
    "X_train, X_test, y_train, y_test = train_test_split(X, y, stratify=y, test_size=0.2, random_state=42)"
   ]
  },
  {
   "cell_type": "code",
   "execution_count": null,
   "id": "638ca4e5",
   "metadata": {
    "id": "638ca4e5"
   },
   "outputs": [],
   "source": [
    "# Handle Imbalance with SMOTE\n",
    "smote = SMOTE(random_state=42)\n",
    "X_train_sm, y_train_sm = smote.fit_resample(X_train, y_train)"
   ]
  },
  {
   "cell_type": "markdown",
   "id": "3835f36b-f3b9-458f-9cff-2a58b4e14bcd",
   "metadata": {},
   "source": [
    "# Evaluation Funtion\n",
    "\n",
    "This function calculates and prints key performance metrics (Accuracy, Precision, Recall, F1 Score) and shows a confusion matrix for each model"
   ]
  },
  {
   "cell_type": "code",
   "execution_count": null,
   "id": "967aa352-5c8c-4f04-b625-8c8b51b77237",
   "metadata": {},
   "outputs": [],
   "source": [
    "# Store evaluation results\n",
    "metrics_results = {}\n",
    "\n",
    "# Evaluation function\n",
    "def evaluate_model(name, y_true, y_pred):\n",
    "    acc = accuracy_score(y_true, y_pred)\n",
    "    prec = precision_score(y_true, y_pred, average='weighted', zero_division=0)\n",
    "    rec = recall_score(y_true, y_pred, average='weighted', zero_division=0)\n",
    "    f1 = f1_score(y_true, y_pred, average='weighted', zero_division=0)\n",
    "    cm = confusion_matrix(y_true, y_pred)\n",
    "\n",
    "    metrics_results[name] = {\n",
    "        \"Accuracy\": acc,\n",
    "        \"Precision\": prec,\n",
    "        \"Recall\": rec,\n",
    "        \"F1 Score\": f1\n",
    "    }\n",
    "\n",
    "    # Display results\n",
    "    print(f\"\\n=== {name} ===\")\n",
    "    print(f\"Accuracy: {acc:.4f}\")\n",
    "    print(f\"Precision: {prec:.4f}\")\n",
    "    print(f\"Recall: {rec:.4f}\")\n",
    "    print(f\"F1 Score: {f1:.4f}\")\n",
    "    print(\"\\nClassification Report:\")\n",
    "    print(classification_report(y_true, y_pred, zero_division=0))\n",
    "\n",
    "    # Confusion Matrix Plot with Viridis\n",
    "    plt.figure(figsize=(6, 5))\n",
    "    sns.heatmap(cm, annot=True, fmt=\"d\", cmap=\"viridis\",\n",
    "                xticklabels=[1, 2, 3, 4, 5], yticklabels=[1, 2, 3, 4, 5])\n",
    "    plt.title(f\"{name} - Confusion Matrix\")\n",
    "    plt.xlabel(\"Predicted\")\n",
    "    plt.ylabel(\"True\")\n",
    "    plt.tight_layout()\n",
    "    plt.show()\n"
   ]
  },
  {
   "cell_type": "markdown",
   "id": "e0727863-a0f5-4434-8548-d07201744df7",
   "metadata": {},
   "source": [
    "# Train and Evaluate Models"
   ]
  },
  {
   "cell_type": "markdown",
   "id": "7429c0b4-b83d-40a1-b2d6-31b06007121c",
   "metadata": {},
   "source": [
    "# Random Forest\n"
   ]
  },
  {
   "cell_type": "code",
   "execution_count": null,
   "id": "faf89bc8-c402-4a64-9bfc-f6edd211f67c",
   "metadata": {
    "scrolled": true
   },
   "outputs": [],
   "source": [
    "from sklearn.ensemble import RandomForestClassifier\n",
    "\n",
    "# Train Random Forest\n",
    "rf = RandomForestClassifier(n_estimators=100, random_state=42)\n",
    "rf.fit(X_train_sm, y_train_sm)\n",
    "\n",
    "# Predict and evaluate\n",
    "rf_preds = rf.predict(X_test)\n",
    "evaluate_model(\"Random Forest\", y_test, rf_preds)\n"
   ]
  },
  {
   "cell_type": "markdown",
   "id": "ef376b67-af4d-4a87-ab62-55d0b16283d6",
   "metadata": {},
   "source": [
    "# LightGBM"
   ]
  },
  {
   "cell_type": "code",
   "execution_count": null,
   "id": "3992eac9-f061-4fb7-a1b5-93c5a88054da",
   "metadata": {},
   "outputs": [],
   "source": [
    "import lightgbm as lgb\n",
    "\n",
    "# Train LightGBM\n",
    "lgbm = lgb.LGBMClassifier(random_state=42)\n",
    "lgbm.fit(X_train_sm, y_train_sm)\n",
    "\n",
    "# Predict and evaluate\n",
    "lgbm_preds = lgbm.predict(X_test)\n",
    "evaluate_model(\"LightGBM\", y_test, lgbm_preds)\n"
   ]
  },
  {
   "cell_type": "markdown",
   "id": "e5e1d728-1500-4b94-9cb5-330692ff8443",
   "metadata": {},
   "source": [
    "# Decision Tree"
   ]
  },
  {
   "cell_type": "code",
   "execution_count": null,
   "id": "69aad436-fc38-4ec1-bdf4-0b4e02e8f361",
   "metadata": {},
   "outputs": [],
   "source": [
    "from sklearn.tree import DecisionTreeClassifier\n",
    "\n",
    "# Train Decision Tree\n",
    "dt = DecisionTreeClassifier(random_state=42)\n",
    "dt.fit(X_train_sm, y_train_sm)\n",
    "\n",
    "# Predict and evaluate\n",
    "dt_preds = dt.predict(X_test)\n",
    "evaluate_model(\"Decision Tree\", y_test, dt_preds)\n"
   ]
  },
  {
   "cell_type": "markdown",
   "id": "d62b543e-c25e-4e85-8ee6-03450afad7d2",
   "metadata": {},
   "source": [
    "# Convert results to DataFrame"
   ]
  },
  {
   "cell_type": "code",
   "execution_count": null,
   "id": "ef91ee2e",
   "metadata": {
    "id": "ef91ee2e",
    "scrolled": true
   },
   "outputs": [],
   "source": [
    "\n",
    "# Sample data to simulate the metrics_results (replace this with your actual data)\n",
    "metrics_results = {\n",
    "    \"Random Forest\": {\"Accuracy\": 0.56, \"Precision\": 0.57, \"Recall\": 0.56, \"F1 Score\": 0.56},\n",
    "    \"LightGBM\": {\"Accuracy\": 0.62, \"Precision\": 0.58, \"Recall\": 0.62, \"F1 Score\": 0.59},\n",
    "    \"Decision Tree\": {\"Accuracy\": 0.48, \"Precision\": 0.55, \"Recall\": 0.48, \"F1 Score\": 0.51}\n",
    "}\n",
    "\n",
    "# Convert to DataFrame\n",
    "metrics_df = pd.DataFrame(metrics_results).T\n",
    "metrics_df_reset = metrics_df.reset_index().rename(columns={'index': 'Model'})\n",
    "melted_df = metrics_df_reset.melt(id_vars='Model', var_name='Metric', value_name='Score')\n",
    "\n",
    "# 1. Grouped Bar Chart of Metrics\n",
    "plt.figure(figsize=(12, 6))\n",
    "sns.barplot(data=melted_df, x='Model', y='Score', hue='Metric', palette='viridis')\n",
    "plt.title(\"Model Performance Comparison by Metric\", fontsize=16, weight='bold')\n",
    "plt.ylabel(\"Score\")\n",
    "plt.xlabel(\"Model\")\n",
    "plt.ylim(0, 1)\n",
    "plt.legend(title=\"Metric\", bbox_to_anchor=(1.05, 1), loc='upper left')\n",
    "plt.grid(axis='y', linestyle='--', alpha=0.6)\n",
    "plt.tight_layout()\n",
    "plt.show()\n",
    "\n"
   ]
  },
  {
   "cell_type": "code",
   "execution_count": null,
   "id": "aedce0bf-2f00-44aa-884b-e5737ff1b079",
   "metadata": {},
   "outputs": [],
   "source": [
    "# 2. Radar Chart (Spider Plot)\n",
    "# Normalize data between 0-1\n",
    "metrics_df_norm = (metrics_df - metrics_df.min()) / (metrics_df.max() - metrics_df.min())\n",
    "labels = metrics_df.columns.tolist()\n",
    "num_vars = len(labels)\n",
    "\n",
    "angles = [n / float(num_vars) * 2 * pi for n in range(num_vars)]\n",
    "angles += angles[:1]\n",
    "\n",
    "plt.figure(figsize=(8, 8))\n",
    "for index, row in metrics_df_norm.iterrows():\n",
    "    values = row.tolist()\n",
    "    values += values[:1]\n",
    "    plt.polar(angles, values, label=index)\n",
    "\n",
    "plt.xticks(angles[:-1], labels, color='grey', size=10)\n",
    "plt.title(\"Radar Chart of Model Metrics\", fontsize=14, weight='bold')\n",
    "plt.legend(loc='upper right', bbox_to_anchor=(1.2, 1))\n",
    "plt.tight_layout()\n",
    "plt.show()\n",
    "\n",
    "# 3. Formatted Metrics Table\n",
    "styled_table = metrics_df.style.format(\"{:.2%}\")\n",
    "styled_table"
   ]
  },
  {
   "cell_type": "code",
   "execution_count": null,
   "id": "07d2aa05-9ab8-419b-88f9-7e384ea0f180",
   "metadata": {},
   "outputs": [],
   "source": [
    "# Save metrics table to CSV\n",
    "metrics_df.to_csv(\"Data2_model_metrics_summary.csv\")"
   ]
  }
 ],
 "metadata": {
  "colab": {
   "provenance": []
  },
  "kernelspec": {
   "display_name": "Python 3 (ipykernel)",
   "language": "python",
   "name": "python3"
  },
  "language_info": {
   "codemirror_mode": {
    "name": "ipython",
    "version": 3
   },
   "file_extension": ".py",
   "mimetype": "text/x-python",
   "name": "python",
   "nbconvert_exporter": "python",
   "pygments_lexer": "ipython3",
   "version": "3.12.3"
  }
 },
 "nbformat": 4,
 "nbformat_minor": 5
}
